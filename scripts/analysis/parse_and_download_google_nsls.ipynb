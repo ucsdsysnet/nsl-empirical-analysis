{
 "cells": [
  {
   "cell_type": "code",
   "execution_count": null,
   "id": "e222d7fe-ba5d-46f8-947e-5cf42a0e911f",
   "metadata": {},
   "outputs": [],
   "source": [
    "import os\n",
    "from bs4 import BeautifulSoup\n",
    "import requests\n",
    "import time\n",
    "\n",
    "# Directory where we store all html pages that contain links to nsl\n",
    "DATA_DIR = \"../../data/raw/google_nsl_pages\"\n",
    "\n",
    "# Get all raw html pages\n",
    "files = sorted(os.listdir(DATA_DIR))\n",
    "files = [f for f in files if '.html' in f]\n",
    "\n",
    "# Save all links\n",
    "all_urls = []\n",
    "for f in files:\n",
    "    print('processing ' + f)\n",
    "    # read the raw html\n",
    "    with open(\"{}/{}\".format(DATA_DIR, f)) as fin:\n",
    "        html = fin.read()\n",
    "    # parse html\n",
    "    soup = BeautifulSoup(html)\n",
    "    \n",
    "    # find the table that list nsl letters\n",
    "    table = soup.find_all('table', class_='google-visualization-table-table')[-1]\n",
    "    \n",
    "    # record data for each nsl letter\n",
    "    nsl_file_number = None\n",
    "    nsl_file_url = None\n",
    "    nsl_date = None\n",
    "    nsl_release_date = None\n",
    "    nsl_release_url = None\n",
    "\n",
    "    idx = 0\n",
    "    for td in table.find_all('td'):\n",
    "        if idx % 3 == 0:\n",
    "            nsl_file_number = td.text\n",
    "            nsl_file_url = td.find('a', href=True)['href']\n",
    "            all_urls.append(nsl_file_url)            \n",
    "        if idx % 3 == 1:\n",
    "            nsl_date = td.text\n",
    "        if idx % 3 == 2:\n",
    "            nsl_release_date = td.text\n",
    "            nsl_release_url = td.find('a', href=True)['href']\n",
    "            all_urls.append(nsl_release_url)\n",
    "        idx += 1\n",
    "            \n",
    "print('total urls: {}'.format(len(all_urls)))"
   ]
  },
  {
   "cell_type": "code",
   "execution_count": null,
   "id": "27d2f6a9-a75e-416b-81e9-0ddffc3bf6b6",
   "metadata": {},
   "outputs": [],
   "source": [
    "# Download data\n",
    "DATA_DIR = \"../../data/raw/nsl/google\"\n",
    "\n",
    "for url in all_urls:\n",
    "    print(url)\n",
    "    response = requests.get(url)\n",
    "    with open(\"{}/{}\".format(DATA_DIR, url.split(\"/\")[-1]), 'wb') as f:\n",
    "        f.write(response.content)\n",
    "    print(f\"Downloaded {url.split('/')[-1]}\")\n",
    "    time.sleep(1)"
   ]
  }
 ],
 "metadata": {
  "kernelspec": {
   "display_name": "Python 3 (ipykernel)",
   "language": "python",
   "name": "python3"
  },
  "language_info": {
   "codemirror_mode": {
    "name": "ipython",
    "version": 3
   },
   "file_extension": ".py",
   "mimetype": "text/x-python",
   "name": "python",
   "nbconvert_exporter": "python",
   "pygments_lexer": "ipython3",
   "version": "3.8.3"
  }
 },
 "nbformat": 4,
 "nbformat_minor": 5
}
